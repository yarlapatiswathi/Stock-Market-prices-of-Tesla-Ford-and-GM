{
 "cells": [
  {
   "cell_type": "markdown",
   "id": "7871ed7b",
   "metadata": {},
   "source": [
    "### Getting Data From Yahoo Finance"
   ]
  },
  {
   "cell_type": "code",
   "execution_count": 4,
   "id": "48bca722",
   "metadata": {},
   "outputs": [],
   "source": [
    "#installing pandas_datareader\n",
    "!pip install pandas_datareader --quiet"
   ]
  },
  {
   "cell_type": "code",
   "execution_count": 11,
   "id": "b3c3b7e8",
   "metadata": {
    "collapsed": true
   },
   "outputs": [
    {
     "name": "stdout",
     "output_type": "stream",
     "text": [
      "Collecting pathlib\n",
      "  Downloading pathlib-1.0.1-py3-none-any.whl (14 kB)\n",
      "Installing collected packages: pathlib\n",
      "Successfully installed pathlib-1.0.1\n"
     ]
    }
   ],
   "source": [
    "!pip install pathlib"
   ]
  },
  {
   "cell_type": "code",
   "execution_count": 12,
   "id": "a0eaed5a",
   "metadata": {
    "collapsed": true
   },
   "outputs": [
    {
     "name": "stdout",
     "output_type": "stream",
     "text": [
      "Requirement already satisfied: yfinance in c:\\users\\shash\\anaconda3\\lib\\site-packages (0.2.12)\n",
      "Requirement already satisfied: pandas>=1.3.0 in c:\\users\\shash\\anaconda3\\lib\\site-packages (from yfinance) (1.3.4)\n",
      "Requirement already satisfied: numpy>=1.16.5 in c:\\users\\shash\\anaconda3\\lib\\site-packages (from yfinance) (1.20.3)\n",
      "Requirement already satisfied: cryptography>=3.3.2 in c:\\users\\shash\\anaconda3\\lib\\site-packages (from yfinance) (3.4.8)\n",
      "Requirement already satisfied: pytz>=2022.5 in c:\\users\\shash\\anaconda3\\lib\\site-packages (from yfinance) (2022.7.1)\n",
      "Requirement already satisfied: frozendict>=2.3.4 in c:\\users\\shash\\anaconda3\\lib\\site-packages (from yfinance) (2.3.5)\n",
      "Requirement already satisfied: beautifulsoup4>=4.11.1 in c:\\users\\shash\\anaconda3\\lib\\site-packages (from yfinance) (4.11.2)\n",
      "Requirement already satisfied: requests>=2.26 in c:\\users\\shash\\anaconda3\\lib\\site-packages (from yfinance) (2.26.0)\n",
      "Requirement already satisfied: appdirs>=1.4.4 in c:\\users\\shash\\anaconda3\\lib\\site-packages (from yfinance) (1.4.4)\n",
      "Requirement already satisfied: multitasking>=0.0.7 in c:\\users\\shash\\anaconda3\\lib\\site-packages (from yfinance) (0.0.11)\n",
      "Requirement already satisfied: lxml>=4.9.1 in c:\\users\\shash\\anaconda3\\lib\\site-packages (from yfinance) (4.9.2)\n",
      "Requirement already satisfied: html5lib>=1.1 in c:\\users\\shash\\anaconda3\\lib\\site-packages (from yfinance) (1.1)\n",
      "Requirement already satisfied: soupsieve>1.2 in c:\\users\\shash\\anaconda3\\lib\\site-packages (from beautifulsoup4>=4.11.1->yfinance) (2.2.1)\n",
      "Requirement already satisfied: cffi>=1.12 in c:\\users\\shash\\anaconda3\\lib\\site-packages (from cryptography>=3.3.2->yfinance) (1.14.6)\n",
      "Requirement already satisfied: pycparser in c:\\users\\shash\\anaconda3\\lib\\site-packages (from cffi>=1.12->cryptography>=3.3.2->yfinance) (2.20)\n",
      "Requirement already satisfied: webencodings in c:\\users\\shash\\anaconda3\\lib\\site-packages (from html5lib>=1.1->yfinance) (0.5.1)\n",
      "Requirement already satisfied: six>=1.9 in c:\\users\\shash\\anaconda3\\lib\\site-packages (from html5lib>=1.1->yfinance) (1.16.0)\n",
      "Requirement already satisfied: python-dateutil>=2.7.3 in c:\\users\\shash\\anaconda3\\lib\\site-packages (from pandas>=1.3.0->yfinance) (2.8.2)\n",
      "Requirement already satisfied: charset-normalizer~=2.0.0 in c:\\users\\shash\\anaconda3\\lib\\site-packages (from requests>=2.26->yfinance) (2.0.4)\n",
      "Requirement already satisfied: idna<4,>=2.5 in c:\\users\\shash\\anaconda3\\lib\\site-packages (from requests>=2.26->yfinance) (3.2)\n",
      "Requirement already satisfied: urllib3<1.27,>=1.21.1 in c:\\users\\shash\\anaconda3\\lib\\site-packages (from requests>=2.26->yfinance) (1.26.7)\n",
      "Requirement already satisfied: certifi>=2017.4.17 in c:\\users\\shash\\anaconda3\\lib\\site-packages (from requests>=2.26->yfinance) (2021.10.8)\n"
     ]
    }
   ],
   "source": [
    "!pip install yfinance --upgrade --no-cache-dir"
   ]
  },
  {
   "cell_type": "code",
   "execution_count": 17,
   "id": "bcf4ed8f",
   "metadata": {
    "scrolled": true
   },
   "outputs": [],
   "source": [
    "#import pandas_datareader\n",
    "from pandas_datareader import data as pdr\n",
    "import yfinance as yf\n",
    "import datetime\n",
    "import pandas as pd\n",
    "import numpy as np"
   ]
  },
  {
   "cell_type": "code",
   "execution_count": 18,
   "id": "da663559",
   "metadata": {},
   "outputs": [],
   "source": [
    "yf.pdr_override()"
   ]
  },
  {
   "cell_type": "code",
   "execution_count": 19,
   "id": "2e782805",
   "metadata": {
    "scrolled": true
   },
   "outputs": [
    {
     "name": "stdout",
     "output_type": "stream",
     "text": [
      "[*********************100%***********************]  1 of 1 completed\n"
     ]
    }
   ],
   "source": [
    "nvda=pdr.get_data_yahoo('NVDA',\n",
    "                       start=\"2017-01-01\",\n",
    "                       end=\"2023-01-01\")"
   ]
  },
  {
   "cell_type": "code",
   "execution_count": 21,
   "id": "4a8e7348",
   "metadata": {},
   "outputs": [
    {
     "name": "stdout",
     "output_type": "stream",
     "text": [
      "[*********************100%***********************]  1 of 1 completed\n"
     ]
    }
   ],
   "source": [
    "qcom=pdr.get_data_yahoo('QCOM',\n",
    "                       start=\"2017-01-01\",\n",
    "                       end=\"2023-01-01\")"
   ]
  },
  {
   "cell_type": "code",
   "execution_count": 22,
   "id": "7b99620c",
   "metadata": {},
   "outputs": [
    {
     "name": "stdout",
     "output_type": "stream",
     "text": [
      "[*********************100%***********************]  1 of 1 completed\n"
     ]
    }
   ],
   "source": [
    "intc=pdr.get_data_yahoo('INTC',\n",
    "                       start=\"2017-01-01\",\n",
    "                       end=\"2023-01-01\")"
   ]
  },
  {
   "cell_type": "code",
   "execution_count": 23,
   "id": "0fdde0f8",
   "metadata": {},
   "outputs": [
    {
     "name": "stdout",
     "output_type": "stream",
     "text": [
      "[*********************100%***********************]  1 of 1 completed\n"
     ]
    }
   ],
   "source": [
    "ibm=pdr.get_data_yahoo('IBM',\n",
    "                       start=\"2017-01-01\",\n",
    "                       end=\"2023-01-01\")"
   ]
  },
  {
   "cell_type": "code",
   "execution_count": 24,
   "id": "a731326c",
   "metadata": {},
   "outputs": [
    {
     "data": {
      "text/plain": [
       "pandas.core.frame.DataFrame"
      ]
     },
     "execution_count": 24,
     "metadata": {},
     "output_type": "execute_result"
    }
   ],
   "source": [
    "type(nvda)"
   ]
  },
  {
   "cell_type": "code",
   "execution_count": 25,
   "id": "bc471f29",
   "metadata": {},
   "outputs": [
    {
     "data": {
      "text/html": [
       "<div>\n",
       "<style scoped>\n",
       "    .dataframe tbody tr th:only-of-type {\n",
       "        vertical-align: middle;\n",
       "    }\n",
       "\n",
       "    .dataframe tbody tr th {\n",
       "        vertical-align: top;\n",
       "    }\n",
       "\n",
       "    .dataframe thead th {\n",
       "        text-align: right;\n",
       "    }\n",
       "</style>\n",
       "<table border=\"1\" class=\"dataframe\">\n",
       "  <thead>\n",
       "    <tr style=\"text-align: right;\">\n",
       "      <th></th>\n",
       "      <th>Open</th>\n",
       "      <th>High</th>\n",
       "      <th>Low</th>\n",
       "      <th>Close</th>\n",
       "      <th>Adj Close</th>\n",
       "      <th>Volume</th>\n",
       "    </tr>\n",
       "    <tr>\n",
       "      <th>Date</th>\n",
       "      <th></th>\n",
       "      <th></th>\n",
       "      <th></th>\n",
       "      <th></th>\n",
       "      <th></th>\n",
       "      <th></th>\n",
       "    </tr>\n",
       "  </thead>\n",
       "  <tbody>\n",
       "    <tr>\n",
       "      <th>2017-01-03</th>\n",
       "      <td>26.1000</td>\n",
       "      <td>26.592501</td>\n",
       "      <td>24.844999</td>\n",
       "      <td>25.502501</td>\n",
       "      <td>25.142952</td>\n",
       "      <td>150199600</td>\n",
       "    </tr>\n",
       "    <tr>\n",
       "      <th>2017-01-04</th>\n",
       "      <td>25.8500</td>\n",
       "      <td>26.375000</td>\n",
       "      <td>25.382500</td>\n",
       "      <td>26.097500</td>\n",
       "      <td>25.729563</td>\n",
       "      <td>119922000</td>\n",
       "    </tr>\n",
       "    <tr>\n",
       "      <th>2017-01-05</th>\n",
       "      <td>26.1325</td>\n",
       "      <td>26.455000</td>\n",
       "      <td>25.262501</td>\n",
       "      <td>25.434999</td>\n",
       "      <td>25.076405</td>\n",
       "      <td>98429600</td>\n",
       "    </tr>\n",
       "    <tr>\n",
       "      <th>2017-01-06</th>\n",
       "      <td>25.7125</td>\n",
       "      <td>26.062500</td>\n",
       "      <td>25.299999</td>\n",
       "      <td>25.775000</td>\n",
       "      <td>25.411606</td>\n",
       "      <td>82285600</td>\n",
       "    </tr>\n",
       "    <tr>\n",
       "      <th>2017-01-09</th>\n",
       "      <td>25.8750</td>\n",
       "      <td>27.000000</td>\n",
       "      <td>25.875000</td>\n",
       "      <td>26.820000</td>\n",
       "      <td>26.441879</td>\n",
       "      <td>91624800</td>\n",
       "    </tr>\n",
       "  </tbody>\n",
       "</table>\n",
       "</div>"
      ],
      "text/plain": [
       "               Open       High        Low      Close  Adj Close     Volume\n",
       "Date                                                                      \n",
       "2017-01-03  26.1000  26.592501  24.844999  25.502501  25.142952  150199600\n",
       "2017-01-04  25.8500  26.375000  25.382500  26.097500  25.729563  119922000\n",
       "2017-01-05  26.1325  26.455000  25.262501  25.434999  25.076405   98429600\n",
       "2017-01-06  25.7125  26.062500  25.299999  25.775000  25.411606   82285600\n",
       "2017-01-09  25.8750  27.000000  25.875000  26.820000  26.441879   91624800"
      ]
     },
     "execution_count": 25,
     "metadata": {},
     "output_type": "execute_result"
    }
   ],
   "source": [
    "nvda.head(5)"
   ]
  },
  {
   "cell_type": "code",
   "execution_count": 26,
   "id": "4597af8b",
   "metadata": {},
   "outputs": [
    {
     "data": {
      "text/html": [
       "<div>\n",
       "<style scoped>\n",
       "    .dataframe tbody tr th:only-of-type {\n",
       "        vertical-align: middle;\n",
       "    }\n",
       "\n",
       "    .dataframe tbody tr th {\n",
       "        vertical-align: top;\n",
       "    }\n",
       "\n",
       "    .dataframe thead th {\n",
       "        text-align: right;\n",
       "    }\n",
       "</style>\n",
       "<table border=\"1\" class=\"dataframe\">\n",
       "  <thead>\n",
       "    <tr style=\"text-align: right;\">\n",
       "      <th></th>\n",
       "      <th>Open</th>\n",
       "      <th>High</th>\n",
       "      <th>Low</th>\n",
       "      <th>Close</th>\n",
       "      <th>Adj Close</th>\n",
       "      <th>Volume</th>\n",
       "    </tr>\n",
       "    <tr>\n",
       "      <th>Date</th>\n",
       "      <th></th>\n",
       "      <th></th>\n",
       "      <th></th>\n",
       "      <th></th>\n",
       "      <th></th>\n",
       "      <th></th>\n",
       "    </tr>\n",
       "  </thead>\n",
       "  <tbody>\n",
       "    <tr>\n",
       "      <th>2022-12-28</th>\n",
       "      <td>139.270004</td>\n",
       "      <td>142.619995</td>\n",
       "      <td>138.839996</td>\n",
       "      <td>140.360001</td>\n",
       "      <td>140.336166</td>\n",
       "      <td>35106600</td>\n",
       "    </tr>\n",
       "    <tr>\n",
       "      <th>2022-12-29</th>\n",
       "      <td>144.020004</td>\n",
       "      <td>146.830002</td>\n",
       "      <td>142.270004</td>\n",
       "      <td>146.029999</td>\n",
       "      <td>146.005203</td>\n",
       "      <td>35492300</td>\n",
       "    </tr>\n",
       "    <tr>\n",
       "      <th>2022-12-30</th>\n",
       "      <td>143.339996</td>\n",
       "      <td>146.289993</td>\n",
       "      <td>142.330002</td>\n",
       "      <td>146.139999</td>\n",
       "      <td>146.115189</td>\n",
       "      <td>31049000</td>\n",
       "    </tr>\n",
       "  </tbody>\n",
       "</table>\n",
       "</div>"
      ],
      "text/plain": [
       "                  Open        High         Low       Close   Adj Close  \\\n",
       "Date                                                                     \n",
       "2022-12-28  139.270004  142.619995  138.839996  140.360001  140.336166   \n",
       "2022-12-29  144.020004  146.830002  142.270004  146.029999  146.005203   \n",
       "2022-12-30  143.339996  146.289993  142.330002  146.139999  146.115189   \n",
       "\n",
       "              Volume  \n",
       "Date                  \n",
       "2022-12-28  35106600  \n",
       "2022-12-29  35492300  \n",
       "2022-12-30  31049000  "
      ]
     },
     "execution_count": 26,
     "metadata": {},
     "output_type": "execute_result"
    }
   ],
   "source": [
    "nvda.tail(3)"
   ]
  },
  {
   "cell_type": "code",
   "execution_count": 27,
   "id": "81701029",
   "metadata": {},
   "outputs": [
    {
     "data": {
      "text/html": [
       "<div>\n",
       "<style scoped>\n",
       "    .dataframe tbody tr th:only-of-type {\n",
       "        vertical-align: middle;\n",
       "    }\n",
       "\n",
       "    .dataframe tbody tr th {\n",
       "        vertical-align: top;\n",
       "    }\n",
       "\n",
       "    .dataframe thead th {\n",
       "        text-align: right;\n",
       "    }\n",
       "</style>\n",
       "<table border=\"1\" class=\"dataframe\">\n",
       "  <thead>\n",
       "    <tr style=\"text-align: right;\">\n",
       "      <th></th>\n",
       "      <th>Open</th>\n",
       "      <th>High</th>\n",
       "      <th>Low</th>\n",
       "      <th>Close</th>\n",
       "      <th>Adj Close</th>\n",
       "      <th>Volume</th>\n",
       "    </tr>\n",
       "  </thead>\n",
       "  <tbody>\n",
       "    <tr>\n",
       "      <th>count</th>\n",
       "      <td>1510.000000</td>\n",
       "      <td>1510.000000</td>\n",
       "      <td>1510.000000</td>\n",
       "      <td>1510.000000</td>\n",
       "      <td>1510.000000</td>\n",
       "      <td>1.510000e+03</td>\n",
       "    </tr>\n",
       "    <tr>\n",
       "      <th>mean</th>\n",
       "      <td>133.445520</td>\n",
       "      <td>134.547560</td>\n",
       "      <td>132.326132</td>\n",
       "      <td>133.433540</td>\n",
       "      <td>114.092655</td>\n",
       "      <td>5.079917e+06</td>\n",
       "    </tr>\n",
       "    <tr>\n",
       "      <th>std</th>\n",
       "      <td>13.661094</td>\n",
       "      <td>13.493333</td>\n",
       "      <td>13.785593</td>\n",
       "      <td>13.639241</td>\n",
       "      <td>11.339242</td>\n",
       "      <td>3.113922e+06</td>\n",
       "    </tr>\n",
       "    <tr>\n",
       "      <th>min</th>\n",
       "      <td>90.439774</td>\n",
       "      <td>93.441681</td>\n",
       "      <td>86.577438</td>\n",
       "      <td>90.602295</td>\n",
       "      <td>77.948769</td>\n",
       "      <td>1.247878e+06</td>\n",
       "    </tr>\n",
       "    <tr>\n",
       "      <th>25%</th>\n",
       "      <td>124.075811</td>\n",
       "      <td>125.253345</td>\n",
       "      <td>122.363766</td>\n",
       "      <td>123.862974</td>\n",
       "      <td>107.049868</td>\n",
       "      <td>3.406874e+06</td>\n",
       "    </tr>\n",
       "    <tr>\n",
       "      <th>50%</th>\n",
       "      <td>133.819313</td>\n",
       "      <td>134.799240</td>\n",
       "      <td>132.844696</td>\n",
       "      <td>133.833649</td>\n",
       "      <td>112.202984</td>\n",
       "      <td>4.290954e+06</td>\n",
       "    </tr>\n",
       "    <tr>\n",
       "      <th>75%</th>\n",
       "      <td>140.494743</td>\n",
       "      <td>141.369274</td>\n",
       "      <td>139.580502</td>\n",
       "      <td>140.360897</td>\n",
       "      <td>122.961882</td>\n",
       "      <td>5.623361e+06</td>\n",
       "    </tr>\n",
       "    <tr>\n",
       "      <th>max</th>\n",
       "      <td>173.996170</td>\n",
       "      <td>174.751434</td>\n",
       "      <td>172.963669</td>\n",
       "      <td>173.948380</td>\n",
       "      <td>148.742966</td>\n",
       "      <td>3.981442e+07</td>\n",
       "    </tr>\n",
       "  </tbody>\n",
       "</table>\n",
       "</div>"
      ],
      "text/plain": [
       "              Open         High          Low        Close    Adj Close  \\\n",
       "count  1510.000000  1510.000000  1510.000000  1510.000000  1510.000000   \n",
       "mean    133.445520   134.547560   132.326132   133.433540   114.092655   \n",
       "std      13.661094    13.493333    13.785593    13.639241    11.339242   \n",
       "min      90.439774    93.441681    86.577438    90.602295    77.948769   \n",
       "25%     124.075811   125.253345   122.363766   123.862974   107.049868   \n",
       "50%     133.819313   134.799240   132.844696   133.833649   112.202984   \n",
       "75%     140.494743   141.369274   139.580502   140.360897   122.961882   \n",
       "max     173.996170   174.751434   172.963669   173.948380   148.742966   \n",
       "\n",
       "             Volume  \n",
       "count  1.510000e+03  \n",
       "mean   5.079917e+06  \n",
       "std    3.113922e+06  \n",
       "min    1.247878e+06  \n",
       "25%    3.406874e+06  \n",
       "50%    4.290954e+06  \n",
       "75%    5.623361e+06  \n",
       "max    3.981442e+07  "
      ]
     },
     "execution_count": 27,
     "metadata": {},
     "output_type": "execute_result"
    }
   ],
   "source": [
    "ibm.describe()"
   ]
  },
  {
   "cell_type": "markdown",
   "id": "f23c5c5e",
   "metadata": {},
   "source": [
    "### Time Series Data"
   ]
  },
  {
   "cell_type": "markdown",
   "id": "55a1f354",
   "metadata": {},
   "source": [
    "Tracking movement of stock price of 'NVDA', 'QCOM', 'INTC', 'IBM' between 2017-01-01 and 2022-12-30 "
   ]
  },
  {
   "cell_type": "code",
   "execution_count": 29,
   "id": "19f45e6a",
   "metadata": {},
   "outputs": [],
   "source": [
    "import matplotlib.pyplot as plt\n",
    "import matplotlib.dates as mdates"
   ]
  },
  {
   "cell_type": "code",
   "execution_count": 30,
   "id": "0a852259",
   "metadata": {},
   "outputs": [
    {
     "data": {
      "image/png": "[encoded data removed]",
      "text/plain": [
       "<Figure size 432x288 with 1 Axes>"
      ]
     },
     "metadata": {
      "needs_background": "light"
     },
     "output_type": "display_data"
    }
   ],
   "source": [
    "plt.plot(ibm.index,ibm['Adj Close'])\n",
    "plt.gca().xaxis.set_major_formatter(mdates.DateFormatter('%Y'))\n",
    "plt.gca().xaxis.set_major_locator(mdates.YearLocator())\n",
    "plt.grid(True)\n",
    "plt.xticks(rotation=90)\n",
    "plt.show()"
   ]
  },
  {
   "cell_type": "code",
   "execution_count": 34,
   "id": "8d20cb5a",
   "metadata": {},
   "outputs": [
    {
     "data": {
      "text/plain": [
       "<matplotlib.dates.YearLocator at 0x26c1aa5da90>"
      ]
     },
     "execution_count": 34,
     "metadata": {},
     "output_type": "execute_result"
    }
   ],
   "source": [
    "mdates.YearLocator()"
   ]
  },
  {
   "cell_type": "code",
   "execution_count": null,
   "id": "d7726fec",
   "metadata": {},
   "outputs": [],
   "source": []
  }
 ],
 "metadata": {
  "kernelspec": {
   "display_name": "Python 3 (ipykernel)",
   "language": "python",
   "name": "python3"
  },
  "language_info": {
   "codemirror_mode": {
    "name": "ipython",
    "version": 3
   },
   "file_extension": ".py",
   "mimetype": "text/x-python",
   "name": "python",
   "nbconvert_exporter": "python",
   "pygments_lexer": "ipython3",
   "version": "3.9.7"
  }
 },
 "nbformat": 4,
 "nbformat_minor": 5
}
